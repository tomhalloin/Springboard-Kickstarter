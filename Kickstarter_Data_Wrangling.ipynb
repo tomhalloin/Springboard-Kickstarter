{
 "cells": [
  {
   "cell_type": "code",
   "execution_count": null,
   "metadata": {
    "ExecuteTime": {
     "end_time": "2019-05-22T00:37:31.030326Z",
     "start_time": "2019-05-22T00:37:25.939203Z"
    }
   },
   "outputs": [],
   "source": [
    "import numpy as np\n",
    "import json\n",
    "import pandas as pd\n",
    "from pandas.io.json import json_normalize\n",
    "import simplejson as json"
   ]
  },
  {
   "cell_type": "code",
   "execution_count": null,
   "metadata": {
    "ExecuteTime": {
     "end_time": "2019-05-22T00:50:13.253916Z",
     "start_time": "2019-05-22T00:50:13.235965Z"
    }
   },
   "outputs": [],
   "source": [
    "import glob\n",
    "import os\n",
    "\n",
    "path = 'C://Users/Tom/Documents/Kickstarter/JSONs' \n",
    "list_files = os.listdir(path)\n",
    "files = []\n",
    "\n",
    "for file in list_files:\n",
    "    file = path + '/' + file\n",
    "    files.append(file)\n",
    "print(file)"
   ]
  },
  {
   "cell_type": "code",
   "execution_count": null,
   "metadata": {
    "ExecuteTime": {
     "end_time": "2019-05-22T00:52:40.033790Z",
     "start_time": "2019-05-22T00:52:37.058686Z"
    }
   },
   "outputs": [],
   "source": [
    "filenum = 0\n",
    "for file in files:\n",
    "    chunks = []\n",
    "    reader = pd.read_json(file, lines=True, chunksize=4096)   \n",
    "\n",
    "    for chunk in reader:\n",
    "        chunks.append(chunk['data'])\n",
    "        \n",
    "    normalized = []\n",
    "    \n",
    "    for chunk in range(len(chunks)):\n",
    "        normalized.append(json_normalize(chunks[chunk]))\n",
    "        normalized[chunk] = normalized[chunk][['id', 'backers_count', 'blurb', 'category.name', 'category.slug', 'country', 'currency',\n",
    "                                                  'goal', 'launched_at', 'deadline', 'location.displayable_name', 'location.country', 'location.state',\n",
    "                                                  'location.type', 'name', 'usd_pledged', 'slug', 'spotlight', 'staff_pick', 'static_usd_rate', 'state']]\n",
    "    master = pd.concat(normalized, sort=False)\n",
    "    new_filename = 'file' + str(filenum) + '.csv'\n",
    "    filenum += 1\n",
    "    master.to_csv(new_filename)\n"
   ]
  },
  {
   "cell_type": "code",
   "execution_count": null,
   "metadata": {
    "ExecuteTime": {
     "end_time": "2019-05-21T01:20:15.882257Z",
     "start_time": "2019-05-21T01:20:15.873285Z"
    }
   },
   "outputs": [],
   "source": [
    "master = pd.DataFrame(master)"
   ]
  },
  {
   "cell_type": "code",
   "execution_count": null,
   "metadata": {
    "ExecuteTime": {
     "end_time": "2019-05-21T01:20:17.404705Z",
     "start_time": "2019-05-21T01:20:17.113379Z"
    }
   },
   "outputs": [],
   "source": [
    "# Feature Engineering and Cleaning Columns\n",
    "import datetime\n",
    "master['launched_at'] = master['launched_at'].apply(datetime.datetime.utcfromtimestamp)\n",
    "master['deadline'] = master['deadline'].apply(datetime.datetime.utcfromtimestamp)\n"
   ]
  },
  {
   "cell_type": "code",
   "execution_count": null,
   "metadata": {
    "ExecuteTime": {
     "end_time": "2019-05-21T01:20:21.007594Z",
     "start_time": "2019-05-21T01:20:18.411927Z"
    }
   },
   "outputs": [],
   "source": [
    "master['year'] = master['launched_at'].apply(lambda x: datetime.date.timetuple(x)[0])\n",
    "master['month'] =  master['launched_at'].apply(lambda x: datetime.date.timetuple(x)[1])\n",
    "master['day'] = master['launched_at'].apply(lambda x: datetime.date.timetuple(x)[2])\n",
    "master['hour'] = master['launched_at'].apply(lambda x: datetime.date.timetuple(x)[3])"
   ]
  },
  {
   "cell_type": "code",
   "execution_count": null,
   "metadata": {
    "ExecuteTime": {
     "end_time": "2019-05-21T01:20:23.669219Z",
     "start_time": "2019-05-21T01:20:21.007594Z"
    }
   },
   "outputs": [],
   "source": [
    "master['days_to_deadline'] = (master['deadline'] - master['launched_at']).apply(lambda x: x/np.timedelta64(1,'D'))\n",
    "master['days_to_deadline'] = master['days_to_deadline'].apply(lambda x: format(x, '.0f'))"
   ]
  },
  {
   "cell_type": "code",
   "execution_count": null,
   "metadata": {
    "ExecuteTime": {
     "end_time": "2019-05-21T01:20:23.689222Z",
     "start_time": "2019-05-21T01:20:23.669219Z"
    }
   },
   "outputs": [],
   "source": [
    "# Feature engineering: changing goals to constant currency and rounding to 2 decimal places\n",
    "master['goal_USD'] = master['goal'] * master['static_usd_rate']"
   ]
  },
  {
   "cell_type": "code",
   "execution_count": null,
   "metadata": {
    "ExecuteTime": {
     "end_time": "2019-05-21T01:20:24.401678Z",
     "start_time": "2019-05-21T01:20:24.127434Z"
    }
   },
   "outputs": [],
   "source": [
    "master['category_name'] = master['category.name']\n",
    "master['category_slug'] = master['category.slug'].apply(lambda x: x.split('/')[0])\n",
    "master = master.drop(['category.name', 'category.slug'], axis=1)"
   ]
  },
  {
   "cell_type": "code",
   "execution_count": null,
   "metadata": {
    "ExecuteTime": {
     "end_time": "2019-05-21T01:20:30.355087Z",
     "start_time": "2019-05-21T01:20:29.599195Z"
    }
   },
   "outputs": [],
   "source": [
    "# Changing object data types to str\n",
    "[master[column].apply(lambda x: str(x)) for column in \n",
    "['id', 'blurb', 'country', 'currency', 'location.displayable_name', 'location.country', 'location.state', \n",
    " 'location.type', 'name', 'slug', 'state', 'category_name', 'category_slug']]; "
   ]
  },
  {
   "cell_type": "code",
   "execution_count": null,
   "metadata": {
    "ExecuteTime": {
     "end_time": "2019-05-21T01:20:32.327504Z",
     "start_time": "2019-05-21T01:20:31.945788Z"
    }
   },
   "outputs": [],
   "source": [
    "# Adding blurb length to model\n",
    "def word_count(string):\n",
    "    tokens = string.split()\n",
    "    n_tokens = len(tokens)\n",
    "    return(n_tokens)\n",
    "\n",
    "master['blurb_length'] = master['blurb'].apply(lambda x: word_count(str(x)))"
   ]
  },
  {
   "cell_type": "code",
   "execution_count": null,
   "metadata": {
    "ExecuteTime": {
     "end_time": "2019-05-21T01:20:33.986721Z",
     "start_time": "2019-05-21T01:20:33.697478Z"
    }
   },
   "outputs": [],
   "source": [
    "master.isnull().sum()"
   ]
  },
  {
   "cell_type": "code",
   "execution_count": null,
   "metadata": {
    "ExecuteTime": {
     "end_time": "2019-05-21T01:20:39.757687Z",
     "start_time": "2019-05-21T01:20:39.523891Z"
    }
   },
   "outputs": [],
   "source": [
    "master[master['country'] != master['location.country']]"
   ]
  },
  {
   "cell_type": "code",
   "execution_count": null,
   "metadata": {
    "ExecuteTime": {
     "end_time": "2019-05-21T01:20:43.960011Z",
     "start_time": "2019-05-21T01:20:43.819148Z"
    }
   },
   "outputs": [],
   "source": [
    "master['location_type'] = master['location.type'].fillna('Miscellaneous')\n",
    "master['location_country'] = master['location.country'].fillna(master['country'])\n",
    "master['location_state'] = master['location.state'].fillna('-')\n",
    "master['blurb'] = master['blurb'].fillna('-')\n",
    "master['location_displayable_name'] = master['location.displayable_name'].fillna('-')"
   ]
  },
  {
   "cell_type": "code",
   "execution_count": null,
   "metadata": {
    "ExecuteTime": {
     "end_time": "2019-05-21T01:21:10.660525Z",
     "start_time": "2019-05-21T01:21:10.494937Z"
    }
   },
   "outputs": [],
   "source": [
    "master = master.drop(['country', 'location.type', 'location.state', 'location.displayable_name'], axis=1)"
   ]
  },
  {
   "cell_type": "code",
   "execution_count": null,
   "metadata": {
    "ExecuteTime": {
     "end_time": "2019-05-21T01:26:51.186457Z",
     "start_time": "2019-05-21T01:26:45.826686Z"
    },
    "scrolled": true
   },
   "outputs": [],
   "source": [
    "# df['new column name'] = df['df column_name'].apply(lambda x: 'value if condition is met' if x condition else 'value if condition is not met')\n",
    "def binary_state(x):\n",
    "    if x['usd_pledged'] < x['goal_USD']:\n",
    "        return 'failed'\n",
    "    else: return 'successful'\n",
    "master['binary_state'] = master.apply(lambda x: binary_state(x), axis=1)    "
   ]
  },
  {
   "cell_type": "code",
   "execution_count": null,
   "metadata": {
    "ExecuteTime": {
     "end_time": "2019-05-21T01:26:57.960003Z",
     "start_time": "2019-05-21T01:26:52.704335Z"
    }
   },
   "outputs": [],
   "source": [
    "master.to_csv('kickstarter.csv')"
   ]
  },
  {
   "cell_type": "code",
   "execution_count": null,
   "metadata": {},
   "outputs": [],
   "source": []
  }
 ],
 "metadata": {
  "celltoolbar": "Raw Cell Format",
  "kernelspec": {
   "display_name": "Python 3",
   "language": "python",
   "name": "python3"
  },
  "language_info": {
   "codemirror_mode": {
    "name": "ipython",
    "version": 3
   },
   "file_extension": ".py",
   "mimetype": "text/x-python",
   "name": "python",
   "nbconvert_exporter": "python",
   "pygments_lexer": "ipython3",
   "version": "3.6.3"
  }
 },
 "nbformat": 4,
 "nbformat_minor": 2
}
