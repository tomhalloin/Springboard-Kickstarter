{
 "cells": [
  {
   "cell_type": "code",
   "execution_count": null,
   "metadata": {},
   "outputs": [],
   "source": [
    "import numpy as np\n",
    "import json\n",
    "import pandas as pd\n",
    "from pandas.io.json import json_normalize"
   ]
  },
  {
   "cell_type": "code",
   "execution_count": null,
   "metadata": {},
   "outputs": [],
   "source": [
    "import glob\n",
    "import os\n",
    "\n",
    "path = 'C://Users/Tom/Documents/Kickstarter/JSONs' \n",
    "list_files = os.listdir(path)\n",
    "files = []\n",
    "\n",
    "#files = [i for i in files if i.endswith('.json')]\n",
    "for file in list_files:\n",
    "    file = path + '/' + file\n",
    "    files.append(file)"
   ]
  },
  {
   "cell_type": "code",
   "execution_count": null,
   "metadata": {},
   "outputs": [],
   "source": [
    "### NOTE! This code takes about 4 hours to run! ###\n",
    "\n",
    "master = []\n",
    "\n",
    "# For file in list:\n",
    "for file in files:\n",
    "# Read file using pd.read_json\n",
    "    #json.load(open(\"path\"))\n",
    "    df = pd.read_json(file, convert_dates=True, encoding='utf-8', lines=True)\n",
    "# Normalize the data using json_normalize\n",
    "    projects = json_normalize(df['data'])\n",
    "# Filter unnecessary fields\n",
    "    new_projects = projects[['state', 'goal', 'usd_pledged', 'static_usd_rate', 'backers_count', 'blurb', 'category.name', 'category.slug', 'category.id', 'launched_at', 'deadline', 'id', 'location.country', 'location.state', 'location.type', 'spotlight', 'staff_pick']]\n",
    "# Append files to master dataset\n",
    "    master.append(new_projects)\n",
    "# Concatenate files together to build one massive dataset\n",
    "mastercsv = pd.concat(master, axis='rows')\n"
   ]
  },
  {
   "cell_type": "code",
   "execution_count": null,
   "metadata": {
    "scrolled": true
   },
   "outputs": [],
   "source": [
    "mastercsv = pd.read_csv('masterglob.csv')\n",
    "pd.DataFrame(mastercsv)\n",
    "mastercsv.reset_index(inplace=True, drop=True)\n"
   ]
  },
  {
   "cell_type": "code",
   "execution_count": null,
   "metadata": {},
   "outputs": [],
   "source": [
    "# Feature Engineering and Cleaning Columns\n",
    "import datetime\n",
    "mastercsv['launched_at'] = mastercsv['launched_at'].apply(datetime.datetime.utcfromtimestamp)\n",
    "mastercsv['deadline'] = mastercsv['deadline'].apply(datetime.datetime.utcfromtimestamp)"
   ]
  },
  {
   "cell_type": "code",
   "execution_count": null,
   "metadata": {},
   "outputs": [],
   "source": [
    "# Changing usd_pledged into converted_USD\n",
    "mastercsv['converted_USD'] = mastercsv['usd_pledged'] / mastercsv['static_usd_rate']"
   ]
  },
  {
   "cell_type": "code",
   "execution_count": null,
   "metadata": {},
   "outputs": [],
   "source": [
    "mastercsv['days_to_deadline'] = mastercsv['deadline'] - mastercsv['launched_at']"
   ]
  },
  {
   "cell_type": "code",
   "execution_count": null,
   "metadata": {},
   "outputs": [],
   "source": [
    "# Replacing null values\n",
    "mastercsv['blurb'] = mastercsv['blurb'].replace(np.nan, '--')\n",
    "mastercsv['location.country'] = mastercsv['location.country'].replace(np.nan, '--')\n",
    "mastercsv['location.state'] = mastercsv['location.country'].replace(np.nan, '--')\n",
    "mastercsv['location.type'] = mastercsv['location.type'].replace(np.nan, '--')"
   ]
  },
  {
   "cell_type": "code",
   "execution_count": null,
   "metadata": {},
   "outputs": [],
   "source": [
    "# Check if blurb is zero\n",
    "mastercsv[mastercsv['blurb'].isnull()]\n",
    "mastercsv['blurb'] = mastercsv['blurb'].replace(np.nan, '--')"
   ]
  },
  {
   "cell_type": "code",
   "execution_count": null,
   "metadata": {},
   "outputs": [],
   "source": [
    "mastercsv[mastercsv['location.country'].isnull()]\n",
    "mastercsv['location.country'] = mastercsv['location.country'].replace(np.nan, '--')"
   ]
  },
  {
   "cell_type": "code",
   "execution_count": null,
   "metadata": {},
   "outputs": [],
   "source": [
    "mastercsv[mastercsv['location.state'].isnull()]\n",
    "mastercsv['location.state'] = mastercsv['location.country'].replace(np.nan, '--')"
   ]
  },
  {
   "cell_type": "code",
   "execution_count": null,
   "metadata": {},
   "outputs": [],
   "source": [
    "# Splits category slug to contain just parent category\n",
    "mastercsv['category.slug'] = mastercsv['category.slug'].apply(lambda x: x.split(\"/\")[0] )"
   ]
  },
  {
   "cell_type": "code",
   "execution_count": null,
   "metadata": {},
   "outputs": [],
   "source": [
    "mastercsv.drop_duplicates() #Many projects appeared on multiple scrapes each month"
   ]
  },
  {
   "cell_type": "code",
   "execution_count": null,
   "metadata": {},
   "outputs": [],
   "source": [
    "# Save final version as CSV file:\n",
    "mastercsv.to_csv('clean.csv')"
   ]
  },
  {
   "cell_type": "code",
   "execution_count": null,
   "metadata": {},
   "outputs": [],
   "source": []
  }
 ],
 "metadata": {
  "kernelspec": {
   "display_name": "Python 3",
   "language": "python",
   "name": "python3"
  },
  "language_info": {
   "codemirror_mode": {
    "name": "ipython",
    "version": 3
   },
   "file_extension": ".py",
   "mimetype": "text/x-python",
   "name": "python",
   "nbconvert_exporter": "python",
   "pygments_lexer": "ipython3",
   "version": "3.6.3"
  }
 },
 "nbformat": 4,
 "nbformat_minor": 2
}
