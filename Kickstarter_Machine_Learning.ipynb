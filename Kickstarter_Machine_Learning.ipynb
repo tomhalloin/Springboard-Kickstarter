{
 "cells": [
  {
   "cell_type": "code",
   "execution_count": 1,
   "metadata": {
    "ExecuteTime": {
     "end_time": "2019-07-08T14:45:44.498143Z",
     "start_time": "2019-07-08T14:45:40.040693Z"
    }
   },
   "outputs": [],
   "source": [
    "import numpy as np\n",
    "import pandas as pd\n",
    "from scipy import sparse"
   ]
  },
  {
   "cell_type": "code",
   "execution_count": 2,
   "metadata": {
    "ExecuteTime": {
     "end_time": "2019-07-08T14:45:48.418878Z",
     "start_time": "2019-07-08T14:45:44.500099Z"
    }
   },
   "outputs": [],
   "source": [
    "# Read in Kickstarter data\n",
    "kickstarter = pd.read_csv(r'C:\\Users\\Tom\\Documents\\Kickstarter\\kickstarter.csv', index_col=0)"
   ]
  },
  {
   "cell_type": "code",
   "execution_count": 3,
   "metadata": {
    "ExecuteTime": {
     "end_time": "2019-07-08T14:48:38.327292Z",
     "start_time": "2019-07-08T14:45:48.420866Z"
    }
   },
   "outputs": [],
   "source": [
    "# Read in text data as csv:\n",
    "kickstarter_vocab = pd.read_csv(r'C:\\Users\\Tom\\Documents\\Kickstarter\\kickstarter_vocab.csv', index_col=0)"
   ]
  },
  {
   "cell_type": "code",
   "execution_count": 4,
   "metadata": {
    "ExecuteTime": {
     "end_time": "2019-07-08T14:48:39.958475Z",
     "start_time": "2019-07-08T14:48:38.348236Z"
    }
   },
   "outputs": [],
   "source": [
    "kickstarter_features = kickstarter[['name', 'blurb', 'goal_USD', 'category_name', 'category_slug', 'month', 'day', 'hour', 'blurb_length', 'days_to_deadline']]\n",
    "kickstarter_response = kickstarter['binary_state']\n",
    "kickstarter_features = kickstarter_features.drop(['name', 'blurb', 'hour', 'blurb_length'], axis=1)\n",
    "\n",
    "# Log tranforming usd_raised and dropping goal_USD\n",
    "\n",
    "kickstarter_features['log_goal'] = kickstarter.goal_USD.apply(lambda x: np.log1p(x))\n",
    "kickstarter_features.drop('goal_USD', axis=1, inplace=True)"
   ]
  },
  {
   "cell_type": "code",
   "execution_count": 5,
   "metadata": {
    "ExecuteTime": {
     "end_time": "2019-07-08T14:48:40.854302Z",
     "start_time": "2019-07-08T14:48:39.961430Z"
    }
   },
   "outputs": [
    {
     "data": {
      "text/html": [
       "<div>\n",
       "<style scoped>\n",
       "    .dataframe tbody tr th:only-of-type {\n",
       "        vertical-align: middle;\n",
       "    }\n",
       "\n",
       "    .dataframe tbody tr th {\n",
       "        vertical-align: top;\n",
       "    }\n",
       "\n",
       "    .dataframe thead th {\n",
       "        text-align: right;\n",
       "    }\n",
       "</style>\n",
       "<table border=\"1\" class=\"dataframe\">\n",
       "  <thead>\n",
       "    <tr style=\"text-align: right;\">\n",
       "      <th></th>\n",
       "      <th>days_to_deadline</th>\n",
       "      <th>log_goal</th>\n",
       "      <th>category_name_3D Printing</th>\n",
       "      <th>category_name_Academic</th>\n",
       "      <th>category_name_Accessories</th>\n",
       "      <th>category_name_Action</th>\n",
       "      <th>category_name_Animals</th>\n",
       "      <th>category_name_Animation</th>\n",
       "      <th>category_name_Anthologies</th>\n",
       "      <th>category_name_Apparel</th>\n",
       "      <th>...</th>\n",
       "      <th>category_slug_fashion</th>\n",
       "      <th>category_slug_film &amp; video</th>\n",
       "      <th>category_slug_food</th>\n",
       "      <th>category_slug_games</th>\n",
       "      <th>category_slug_journalism</th>\n",
       "      <th>category_slug_music</th>\n",
       "      <th>category_slug_photography</th>\n",
       "      <th>category_slug_publishing</th>\n",
       "      <th>category_slug_technology</th>\n",
       "      <th>category_slug_theater</th>\n",
       "    </tr>\n",
       "  </thead>\n",
       "  <tbody>\n",
       "    <tr>\n",
       "      <th>0</th>\n",
       "      <td>42</td>\n",
       "      <td>7.601402</td>\n",
       "      <td>0</td>\n",
       "      <td>0</td>\n",
       "      <td>0</td>\n",
       "      <td>0</td>\n",
       "      <td>0</td>\n",
       "      <td>0</td>\n",
       "      <td>0</td>\n",
       "      <td>0</td>\n",
       "      <td>...</td>\n",
       "      <td>0</td>\n",
       "      <td>0</td>\n",
       "      <td>0</td>\n",
       "      <td>0</td>\n",
       "      <td>0</td>\n",
       "      <td>0</td>\n",
       "      <td>0</td>\n",
       "      <td>0</td>\n",
       "      <td>0</td>\n",
       "      <td>0</td>\n",
       "    </tr>\n",
       "    <tr>\n",
       "      <th>1</th>\n",
       "      <td>10</td>\n",
       "      <td>2.397895</td>\n",
       "      <td>0</td>\n",
       "      <td>0</td>\n",
       "      <td>0</td>\n",
       "      <td>0</td>\n",
       "      <td>0</td>\n",
       "      <td>0</td>\n",
       "      <td>0</td>\n",
       "      <td>0</td>\n",
       "      <td>...</td>\n",
       "      <td>0</td>\n",
       "      <td>0</td>\n",
       "      <td>0</td>\n",
       "      <td>0</td>\n",
       "      <td>0</td>\n",
       "      <td>0</td>\n",
       "      <td>0</td>\n",
       "      <td>0</td>\n",
       "      <td>0</td>\n",
       "      <td>0</td>\n",
       "    </tr>\n",
       "    <tr>\n",
       "      <th>2</th>\n",
       "      <td>30</td>\n",
       "      <td>6.803505</td>\n",
       "      <td>0</td>\n",
       "      <td>0</td>\n",
       "      <td>0</td>\n",
       "      <td>0</td>\n",
       "      <td>0</td>\n",
       "      <td>0</td>\n",
       "      <td>0</td>\n",
       "      <td>0</td>\n",
       "      <td>...</td>\n",
       "      <td>0</td>\n",
       "      <td>0</td>\n",
       "      <td>0</td>\n",
       "      <td>0</td>\n",
       "      <td>0</td>\n",
       "      <td>0</td>\n",
       "      <td>0</td>\n",
       "      <td>0</td>\n",
       "      <td>0</td>\n",
       "      <td>0</td>\n",
       "    </tr>\n",
       "    <tr>\n",
       "      <th>3</th>\n",
       "      <td>20</td>\n",
       "      <td>6.803505</td>\n",
       "      <td>0</td>\n",
       "      <td>0</td>\n",
       "      <td>0</td>\n",
       "      <td>0</td>\n",
       "      <td>0</td>\n",
       "      <td>0</td>\n",
       "      <td>0</td>\n",
       "      <td>0</td>\n",
       "      <td>...</td>\n",
       "      <td>0</td>\n",
       "      <td>0</td>\n",
       "      <td>0</td>\n",
       "      <td>0</td>\n",
       "      <td>0</td>\n",
       "      <td>0</td>\n",
       "      <td>0</td>\n",
       "      <td>0</td>\n",
       "      <td>0</td>\n",
       "      <td>0</td>\n",
       "    </tr>\n",
       "    <tr>\n",
       "      <th>4</th>\n",
       "      <td>30</td>\n",
       "      <td>10.034632</td>\n",
       "      <td>0</td>\n",
       "      <td>0</td>\n",
       "      <td>0</td>\n",
       "      <td>0</td>\n",
       "      <td>0</td>\n",
       "      <td>0</td>\n",
       "      <td>0</td>\n",
       "      <td>0</td>\n",
       "      <td>...</td>\n",
       "      <td>0</td>\n",
       "      <td>0</td>\n",
       "      <td>0</td>\n",
       "      <td>0</td>\n",
       "      <td>0</td>\n",
       "      <td>0</td>\n",
       "      <td>0</td>\n",
       "      <td>0</td>\n",
       "      <td>0</td>\n",
       "      <td>0</td>\n",
       "    </tr>\n",
       "  </tbody>\n",
       "</table>\n",
       "<p>5 rows × 176 columns</p>\n",
       "</div>"
      ],
      "text/plain": [
       "   days_to_deadline   log_goal  category_name_3D Printing  \\\n",
       "0                42   7.601402                          0   \n",
       "1                10   2.397895                          0   \n",
       "2                30   6.803505                          0   \n",
       "3                20   6.803505                          0   \n",
       "4                30  10.034632                          0   \n",
       "\n",
       "   category_name_Academic  category_name_Accessories  category_name_Action  \\\n",
       "0                       0                          0                     0   \n",
       "1                       0                          0                     0   \n",
       "2                       0                          0                     0   \n",
       "3                       0                          0                     0   \n",
       "4                       0                          0                     0   \n",
       "\n",
       "   category_name_Animals  category_name_Animation  category_name_Anthologies  \\\n",
       "0                      0                        0                          0   \n",
       "1                      0                        0                          0   \n",
       "2                      0                        0                          0   \n",
       "3                      0                        0                          0   \n",
       "4                      0                        0                          0   \n",
       "\n",
       "   category_name_Apparel  ...  category_slug_fashion  \\\n",
       "0                      0  ...                      0   \n",
       "1                      0  ...                      0   \n",
       "2                      0  ...                      0   \n",
       "3                      0  ...                      0   \n",
       "4                      0  ...                      0   \n",
       "\n",
       "   category_slug_film & video  category_slug_food  category_slug_games  \\\n",
       "0                           0                   0                    0   \n",
       "1                           0                   0                    0   \n",
       "2                           0                   0                    0   \n",
       "3                           0                   0                    0   \n",
       "4                           0                   0                    0   \n",
       "\n",
       "   category_slug_journalism  category_slug_music  category_slug_photography  \\\n",
       "0                         0                    0                          0   \n",
       "1                         0                    0                          0   \n",
       "2                         0                    0                          0   \n",
       "3                         0                    0                          0   \n",
       "4                         0                    0                          0   \n",
       "\n",
       "   category_slug_publishing  category_slug_technology  category_slug_theater  \n",
       "0                         0                         0                      0  \n",
       "1                         0                         0                      0  \n",
       "2                         0                         0                      0  \n",
       "3                         0                         0                      0  \n",
       "4                         0                         0                      0  \n",
       "\n",
       "[5 rows x 176 columns]"
      ]
     },
     "execution_count": 5,
     "metadata": {},
     "output_type": "execute_result"
    }
   ],
   "source": [
    "# Encoding category columns\n",
    "\n",
    "kickstarter_features = pd.get_dummies(kickstarter_features, columns=['category_name', 'category_slug'])\n",
    "kickstarter_features.head()"
   ]
  },
  {
   "cell_type": "code",
   "execution_count": 6,
   "metadata": {
    "ExecuteTime": {
     "end_time": "2019-07-08T14:50:14.523906Z",
     "start_time": "2019-07-08T14:48:40.856297Z"
    }
   },
   "outputs": [],
   "source": [
    "# Combining words with features already in place\n",
    "\n",
    "combined = pd.merge(kickstarter_features, kickstarter_vocab, left_index=True, right_index=True).reset_index()"
   ]
  },
  {
   "cell_type": "code",
   "execution_count": 7,
   "metadata": {
    "ExecuteTime": {
     "end_time": "2019-07-08T14:51:05.840199Z",
     "start_time": "2019-07-08T14:50:14.535874Z"
    }
   },
   "outputs": [],
   "source": [
    "# Renaming to kickstarter_features to coincide with rest of code. Dropped index (all 0's)\n",
    "\n",
    "kickstarter_features = combined.drop(['index'], axis=1)"
   ]
  },
  {
   "cell_type": "code",
   "execution_count": 8,
   "metadata": {
    "ExecuteTime": {
     "end_time": "2019-07-08T14:51:12.324816Z",
     "start_time": "2019-07-08T14:51:05.857153Z"
    }
   },
   "outputs": [],
   "source": [
    "# Binarizing labels into yes/no for successful/failed\n",
    "\n",
    "from sklearn import preprocessing\n",
    "lb = preprocessing.LabelBinarizer()\n",
    "y = lb.fit_transform(kickstarter_response).ravel()"
   ]
  },
  {
   "cell_type": "code",
   "execution_count": 9,
   "metadata": {
    "ExecuteTime": {
     "end_time": "2019-07-08T14:55:44.352364Z",
     "start_time": "2019-07-08T14:51:12.327808Z"
    }
   },
   "outputs": [],
   "source": [
    "# Scaling features\n",
    "\n",
    "from sklearn.preprocessing import StandardScaler\n",
    "scaler = StandardScaler()\n",
    "X = scaler.fit_transform(kickstarter_features)"
   ]
  },
  {
   "cell_type": "code",
   "execution_count": 10,
   "metadata": {
    "ExecuteTime": {
     "end_time": "2019-07-08T14:55:44.444651Z",
     "start_time": "2019-07-08T14:55:44.405737Z"
    }
   },
   "outputs": [],
   "source": [
    "# Minmax scaler for Naive Bayes\n",
    "def minmaxscaling(X):\n",
    "    ''' Performs minmaxscaling for Naive Bayes. Returns transformed matrix. '''\n",
    "    from sklearn.preprocessing import MinMaxScaler\n",
    "    scaler = MinMaxScaler()\n",
    "    X = scaler.fit_transform(kickstarter_features)\n",
    "    return (X)"
   ]
  },
  {
   "cell_type": "code",
   "execution_count": 11,
   "metadata": {
    "ExecuteTime": {
     "end_time": "2019-07-08T15:00:41.447362Z",
     "start_time": "2019-07-08T14:55:44.450634Z"
    }
   },
   "outputs": [],
   "source": [
    "# Splitting data into training and testing. In function to call before naive bayes.\n",
    "\n",
    "def train_test_split(X, y):\n",
    "    from sklearn.model_selection import train_test_split\n",
    "    X_train, X_test, y_train, y_test = train_test_split(X, y, test_size=0.33, random_state=42)\n",
    "    return (X_train, X_test, y_train, y_test)\n",
    "\n",
    "X_train, X_test, y_train, y_test = train_test_split(X, y)"
   ]
  },
  {
   "cell_type": "code",
   "execution_count": 12,
   "metadata": {
    "ExecuteTime": {
     "end_time": "2019-07-08T15:00:41.532136Z",
     "start_time": "2019-07-08T15:00:41.488253Z"
    }
   },
   "outputs": [],
   "source": [
    "# Function to score different machine learning models.\n",
    "\n",
    "def score_model(clf, X_input_data, y_true):\n",
    "    '''\n",
    "    Scores a machine learning model, provides summary statistics, plots ROC curve.\n",
    "   \n",
    "    Inputs: classifier, X_input_data (X_train or X_test), y_true (y_train or y_test)\n",
    "    ''' \n",
    "    \n",
    "    # Scoring models. Test model. Change to allow prediction for X_train\n",
    "    y_pred = clf.predict(X_input_data)\n",
    "\n",
    "    # Fit an accuracy score\n",
    "    from sklearn.metrics import accuracy_score\n",
    "    print('\\n Accuracy Score: \\n \\n', \"{:.2%}\".format(accuracy_score(y_true, y_pred, normalize=True)))\n",
    "\n",
    "    # Create confusion matrix\n",
    "    from sklearn.metrics import confusion_matrix\n",
    "    print('\\n Confusion Matrix: \\n \\n', confusion_matrix(y_true, y_pred))\n",
    "\n",
    "    # Print classification report\n",
    "    from sklearn.metrics import classification_report\n",
    "    print('\\n Classification Report: \\n \\n', classification_report(y_true, y_pred))\n",
    "\n",
    "    # Generate ROC plot\n",
    "    from sklearn.metrics import roc_curve\n",
    "    import matplotlib.pyplot as plt\n",
    "\n",
    "    # Compute predicted probabilities: y_pred_prob. Try except for SGD: hinge loss model.\n",
    "    try:\n",
    "        y_pred_prob = clf.predict_proba(X_input_data)[:,1]\n",
    "        \n",
    "        # Generate ROC curve values: fpr, tpr, thresholds\n",
    "        fpr, tpr, thresholds = roc_curve(y_true, y_pred_prob)\n",
    "\n",
    "        # Plot ROC curve\n",
    "        f, ax = plt.subplots(figsize=(8, 8))\n",
    "        plt.plot([0, 1], [0, 1], 'k--')\n",
    "        plt.plot(fpr, tpr)\n",
    "        plt.xlabel('False Positive Rate')\n",
    "        plt.ylabel('True Positive Rate')\n",
    "        plt.title('ROC Curve')\n",
    "        plt.show()\n",
    "    \n",
    "    except AttributeError:\n",
    "        print('Probability estimates not available \\n')\n",
    "        "
   ]
  },
  {
   "cell_type": "code",
   "execution_count": 13,
   "metadata": {
    "ExecuteTime": {
     "end_time": "2019-07-08T15:30:21.990900Z",
     "start_time": "2019-07-08T15:00:41.536125Z"
    }
   },
   "outputs": [
    {
     "name": "stderr",
     "output_type": "stream",
     "text": [
      "C:\\Users\\Tom\\Miniconda3\\lib\\site-packages\\sklearn\\linear_model\\logistic.py:432: FutureWarning: Default solver will be changed to 'lbfgs' in 0.22. Specify a solver to silence this warning.\n",
      "  FutureWarning)\n"
     ]
    },
    {
     "name": "stdout",
     "output_type": "stream",
     "text": [
      "\n",
      " Accuracy Score: \n",
      " \n",
      " 72.90%\n",
      "\n",
      " Confusion Matrix: \n",
      " \n",
      " [[144240  28231]\n",
      " [ 50028  66229]]\n",
      "\n",
      " Classification Report: \n",
      " \n",
      "               precision    recall  f1-score   support\n",
      "\n",
      "           0       0.74      0.84      0.79    172471\n",
      "           1       0.70      0.57      0.63    116257\n",
      "\n",
      "    accuracy                           0.73    288728\n",
      "   macro avg       0.72      0.70      0.71    288728\n",
      "weighted avg       0.73      0.73      0.72    288728\n",
      "\n"
     ]
    },
    {
     "data": {
      "text/plain": [
       "<Figure size 800x800 with 1 Axes>"
      ]
     },
     "metadata": {},
     "output_type": "display_data"
    }
   ],
   "source": [
    "from sklearn.linear_model import LogisticRegression\n",
    "logreg = LogisticRegression()\n",
    "fitted = logreg.fit(X_train, y_train)\n",
    "score_model(fitted, X_train, y_train)\n"
   ]
  },
  {
   "cell_type": "code",
   "execution_count": 14,
   "metadata": {
    "ExecuteTime": {
     "end_time": "2019-07-08T15:30:46.689806Z",
     "start_time": "2019-07-08T15:30:22.047746Z"
    }
   },
   "outputs": [
    {
     "name": "stdout",
     "output_type": "stream",
     "text": [
      "\n",
      " Accuracy Score: \n",
      " \n",
      " 72.12%\n",
      "\n",
      " Confusion Matrix: \n",
      " \n",
      " [[70378 14368]\n",
      " [25277 32187]]\n",
      "\n",
      " Classification Report: \n",
      " \n",
      "               precision    recall  f1-score   support\n",
      "\n",
      "           0       0.74      0.83      0.78     84746\n",
      "           1       0.69      0.56      0.62     57464\n",
      "\n",
      "    accuracy                           0.72    142210\n",
      "   macro avg       0.71      0.70      0.70    142210\n",
      "weighted avg       0.72      0.72      0.72    142210\n",
      "\n"
     ]
    },
    {
     "data": {
      "image/png": "[encoded data removed]",
      "text/plain": [
       "<Figure size 576x576 with 1 Axes>"
      ]
     },
     "metadata": {},
     "output_type": "display_data"
    }
   ],
   "source": [
    "# Get accuracy score:\n",
    "\n",
    "score_model(fitted, X_test, y_test)"
   ]
  },
  {
   "cell_type": "code",
   "execution_count": 17,
   "metadata": {
    "ExecuteTime": {
     "end_time": "2019-07-07T23:42:34.884616Z",
     "start_time": "2019-07-07T23:42:34.792861Z"
    },
    "scrolled": true
   },
   "outputs": [
    {
     "data": {
      "text/html": [
       "<div>\n",
       "<style scoped>\n",
       "    .dataframe tbody tr th:only-of-type {\n",
       "        vertical-align: middle;\n",
       "    }\n",
       "\n",
       "    .dataframe tbody tr th {\n",
       "        vertical-align: top;\n",
       "    }\n",
       "\n",
       "    .dataframe thead th {\n",
       "        text-align: right;\n",
       "    }\n",
       "</style>\n",
       "<table border=\"1\" class=\"dataframe\">\n",
       "  <thead>\n",
       "    <tr style=\"text-align: right;\">\n",
       "      <th></th>\n",
       "      <th>Coefs</th>\n",
       "      <th>Abs_Coefs</th>\n",
       "    </tr>\n",
       "  </thead>\n",
       "  <tbody>\n",
       "    <tr>\n",
       "      <th>log_goal</th>\n",
       "      <td>-0.502111</td>\n",
       "      <td>0.502111</td>\n",
       "    </tr>\n",
       "    <tr>\n",
       "      <th>category_name_Tabletop Games</th>\n",
       "      <td>0.306371</td>\n",
       "      <td>0.306371</td>\n",
       "    </tr>\n",
       "    <tr>\n",
       "      <th>category_name_Apps</th>\n",
       "      <td>-0.265483</td>\n",
       "      <td>0.265483</td>\n",
       "    </tr>\n",
       "    <tr>\n",
       "      <th>days_to_deadline</th>\n",
       "      <td>-0.259011</td>\n",
       "      <td>0.259011</td>\n",
       "    </tr>\n",
       "    <tr>\n",
       "      <th>category_name_Shorts</th>\n",
       "      <td>0.251948</td>\n",
       "      <td>0.251948</td>\n",
       "    </tr>\n",
       "    <tr>\n",
       "      <th>category_name_Theater</th>\n",
       "      <td>0.236433</td>\n",
       "      <td>0.236433</td>\n",
       "    </tr>\n",
       "    <tr>\n",
       "      <th>category_name_Web</th>\n",
       "      <td>-0.225359</td>\n",
       "      <td>0.225359</td>\n",
       "    </tr>\n",
       "    <tr>\n",
       "      <th>category_name_Photography</th>\n",
       "      <td>0.221852</td>\n",
       "      <td>0.221852</td>\n",
       "    </tr>\n",
       "    <tr>\n",
       "      <th>category_name_Food</th>\n",
       "      <td>0.209004</td>\n",
       "      <td>0.209004</td>\n",
       "    </tr>\n",
       "    <tr>\n",
       "      <th>category_name_Documentary</th>\n",
       "      <td>0.202583</td>\n",
       "      <td>0.202583</td>\n",
       "    </tr>\n",
       "    <tr>\n",
       "      <th>category_name_Mobile Games</th>\n",
       "      <td>-0.202030</td>\n",
       "      <td>0.202030</td>\n",
       "    </tr>\n",
       "    <tr>\n",
       "      <th>category_name_Comics</th>\n",
       "      <td>0.187828</td>\n",
       "      <td>0.187828</td>\n",
       "    </tr>\n",
       "    <tr>\n",
       "      <th>category_name_Dance</th>\n",
       "      <td>0.186216</td>\n",
       "      <td>0.186216</td>\n",
       "    </tr>\n",
       "    <tr>\n",
       "      <th>category_name_Fashion</th>\n",
       "      <td>0.181874</td>\n",
       "      <td>0.181874</td>\n",
       "    </tr>\n",
       "    <tr>\n",
       "      <th>category_name_Product Design</th>\n",
       "      <td>0.172303</td>\n",
       "      <td>0.172303</td>\n",
       "    </tr>\n",
       "    <tr>\n",
       "      <th>category_name_Hip-Hop</th>\n",
       "      <td>-0.161691</td>\n",
       "      <td>0.161691</td>\n",
       "    </tr>\n",
       "    <tr>\n",
       "      <th>category_slug_technology</th>\n",
       "      <td>-0.160271</td>\n",
       "      <td>0.160271</td>\n",
       "    </tr>\n",
       "    <tr>\n",
       "      <th>category_name_Technology</th>\n",
       "      <td>0.123898</td>\n",
       "      <td>0.123898</td>\n",
       "    </tr>\n",
       "    <tr>\n",
       "      <th>category_name_DIY</th>\n",
       "      <td>-0.121694</td>\n",
       "      <td>0.121694</td>\n",
       "    </tr>\n",
       "    <tr>\n",
       "      <th>category_name_Apparel</th>\n",
       "      <td>-0.117757</td>\n",
       "      <td>0.117757</td>\n",
       "    </tr>\n",
       "    <tr>\n",
       "      <th>category_name_Indie Rock</th>\n",
       "      <td>0.117471</td>\n",
       "      <td>0.117471</td>\n",
       "    </tr>\n",
       "    <tr>\n",
       "      <th>category_slug_design</th>\n",
       "      <td>0.113785</td>\n",
       "      <td>0.113785</td>\n",
       "    </tr>\n",
       "    <tr>\n",
       "      <th>category_name_Video Games</th>\n",
       "      <td>-0.111600</td>\n",
       "      <td>0.111600</td>\n",
       "    </tr>\n",
       "    <tr>\n",
       "      <th>category_name_Food Trucks</th>\n",
       "      <td>-0.103291</td>\n",
       "      <td>0.103291</td>\n",
       "    </tr>\n",
       "    <tr>\n",
       "      <th>category_name_Music</th>\n",
       "      <td>0.096008</td>\n",
       "      <td>0.096008</td>\n",
       "    </tr>\n",
       "    <tr>\n",
       "      <th>category_name_Art</th>\n",
       "      <td>0.095812</td>\n",
       "      <td>0.095812</td>\n",
       "    </tr>\n",
       "    <tr>\n",
       "      <th>category_slug_comics</th>\n",
       "      <td>0.094425</td>\n",
       "      <td>0.094425</td>\n",
       "    </tr>\n",
       "    <tr>\n",
       "      <th>category_name_Candles</th>\n",
       "      <td>-0.092903</td>\n",
       "      <td>0.092903</td>\n",
       "    </tr>\n",
       "    <tr>\n",
       "      <th>category_name_Live Games</th>\n",
       "      <td>-0.090710</td>\n",
       "      <td>0.090710</td>\n",
       "    </tr>\n",
       "    <tr>\n",
       "      <th>category_name_Country &amp; Folk</th>\n",
       "      <td>0.089734</td>\n",
       "      <td>0.089734</td>\n",
       "    </tr>\n",
       "    <tr>\n",
       "      <th>category_name_Software</th>\n",
       "      <td>-0.087886</td>\n",
       "      <td>0.087886</td>\n",
       "    </tr>\n",
       "    <tr>\n",
       "      <th>category_slug_theater</th>\n",
       "      <td>0.087299</td>\n",
       "      <td>0.087299</td>\n",
       "    </tr>\n",
       "    <tr>\n",
       "      <th>category_name_Hardware</th>\n",
       "      <td>0.083936</td>\n",
       "      <td>0.083936</td>\n",
       "    </tr>\n",
       "    <tr>\n",
       "      <th>category_name_Fiction</th>\n",
       "      <td>-0.081048</td>\n",
       "      <td>0.081048</td>\n",
       "    </tr>\n",
       "    <tr>\n",
       "      <th>category_name_Restaurants</th>\n",
       "      <td>-0.077524</td>\n",
       "      <td>0.077524</td>\n",
       "    </tr>\n",
       "    <tr>\n",
       "      <th>category_name_Television</th>\n",
       "      <td>-0.077143</td>\n",
       "      <td>0.077143</td>\n",
       "    </tr>\n",
       "    <tr>\n",
       "      <th>category_name_Gadgets</th>\n",
       "      <td>0.076721</td>\n",
       "      <td>0.076721</td>\n",
       "    </tr>\n",
       "    <tr>\n",
       "      <th>category_name_Action</th>\n",
       "      <td>-0.076528</td>\n",
       "      <td>0.076528</td>\n",
       "    </tr>\n",
       "    <tr>\n",
       "      <th>category_name_Video</th>\n",
       "      <td>-0.073494</td>\n",
       "      <td>0.073494</td>\n",
       "    </tr>\n",
       "    <tr>\n",
       "      <th>category_name_Graphic Design</th>\n",
       "      <td>-0.073476</td>\n",
       "      <td>0.073476</td>\n",
       "    </tr>\n",
       "    <tr>\n",
       "      <th>category_name_People</th>\n",
       "      <td>-0.072631</td>\n",
       "      <td>0.072631</td>\n",
       "    </tr>\n",
       "    <tr>\n",
       "      <th>category_name_Places</th>\n",
       "      <td>-0.072564</td>\n",
       "      <td>0.072564</td>\n",
       "    </tr>\n",
       "    <tr>\n",
       "      <th>category_name_Woodworking</th>\n",
       "      <td>-0.071646</td>\n",
       "      <td>0.071646</td>\n",
       "    </tr>\n",
       "    <tr>\n",
       "      <th>category_name_Events</th>\n",
       "      <td>-0.070690</td>\n",
       "      <td>0.070690</td>\n",
       "    </tr>\n",
       "    <tr>\n",
       "      <th>category_slug_fashion</th>\n",
       "      <td>-0.070663</td>\n",
       "      <td>0.070663</td>\n",
       "    </tr>\n",
       "    <tr>\n",
       "      <th>category_name_Webseries</th>\n",
       "      <td>-0.070543</td>\n",
       "      <td>0.070543</td>\n",
       "    </tr>\n",
       "    <tr>\n",
       "      <th>category_name_Nature</th>\n",
       "      <td>-0.068501</td>\n",
       "      <td>0.068501</td>\n",
       "    </tr>\n",
       "    <tr>\n",
       "      <th>category_name_Academic</th>\n",
       "      <td>-0.068306</td>\n",
       "      <td>0.068306</td>\n",
       "    </tr>\n",
       "    <tr>\n",
       "      <th>category_name_Interactive Design</th>\n",
       "      <td>-0.068221</td>\n",
       "      <td>0.068221</td>\n",
       "    </tr>\n",
       "    <tr>\n",
       "      <th>category_name_Ready-to-wear</th>\n",
       "      <td>-0.067436</td>\n",
       "      <td>0.067436</td>\n",
       "    </tr>\n",
       "  </tbody>\n",
       "</table>\n",
       "</div>"
      ],
      "text/plain": [
       "                                     Coefs  Abs_Coefs\n",
       "log_goal                         -0.502111   0.502111\n",
       "category_name_Tabletop Games      0.306371   0.306371\n",
       "category_name_Apps               -0.265483   0.265483\n",
       "days_to_deadline                 -0.259011   0.259011\n",
       "category_name_Shorts              0.251948   0.251948\n",
       "category_name_Theater             0.236433   0.236433\n",
       "category_name_Web                -0.225359   0.225359\n",
       "category_name_Photography         0.221852   0.221852\n",
       "category_name_Food                0.209004   0.209004\n",
       "category_name_Documentary         0.202583   0.202583\n",
       "category_name_Mobile Games       -0.202030   0.202030\n",
       "category_name_Comics              0.187828   0.187828\n",
       "category_name_Dance               0.186216   0.186216\n",
       "category_name_Fashion             0.181874   0.181874\n",
       "category_name_Product Design      0.172303   0.172303\n",
       "category_name_Hip-Hop            -0.161691   0.161691\n",
       "category_slug_technology         -0.160271   0.160271\n",
       "category_name_Technology          0.123898   0.123898\n",
       "category_name_DIY                -0.121694   0.121694\n",
       "category_name_Apparel            -0.117757   0.117757\n",
       "category_name_Indie Rock          0.117471   0.117471\n",
       "category_slug_design              0.113785   0.113785\n",
       "category_name_Video Games        -0.111600   0.111600\n",
       "category_name_Food Trucks        -0.103291   0.103291\n",
       "category_name_Music               0.096008   0.096008\n",
       "category_name_Art                 0.095812   0.095812\n",
       "category_slug_comics              0.094425   0.094425\n",
       "category_name_Candles            -0.092903   0.092903\n",
       "category_name_Live Games         -0.090710   0.090710\n",
       "category_name_Country & Folk      0.089734   0.089734\n",
       "category_name_Software           -0.087886   0.087886\n",
       "category_slug_theater             0.087299   0.087299\n",
       "category_name_Hardware            0.083936   0.083936\n",
       "category_name_Fiction            -0.081048   0.081048\n",
       "category_name_Restaurants        -0.077524   0.077524\n",
       "category_name_Television         -0.077143   0.077143\n",
       "category_name_Gadgets             0.076721   0.076721\n",
       "category_name_Action             -0.076528   0.076528\n",
       "category_name_Video              -0.073494   0.073494\n",
       "category_name_Graphic Design     -0.073476   0.073476\n",
       "category_name_People             -0.072631   0.072631\n",
       "category_name_Places             -0.072564   0.072564\n",
       "category_name_Woodworking        -0.071646   0.071646\n",
       "category_name_Events             -0.070690   0.070690\n",
       "category_slug_fashion            -0.070663   0.070663\n",
       "category_name_Webseries          -0.070543   0.070543\n",
       "category_name_Nature             -0.068501   0.068501\n",
       "category_name_Academic           -0.068306   0.068306\n",
       "category_name_Interactive Design -0.068221   0.068221\n",
       "category_name_Ready-to-wear      -0.067436   0.067436"
      ]
     },
     "execution_count": 17,
     "metadata": {},
     "output_type": "execute_result"
    }
   ],
   "source": [
    "# Getting logistic regression coefficients\n",
    "\n",
    "coefs = logreg.coef_.transpose()\n",
    "feature_list = list(kickstarter_features)\n",
    "df = pd.DataFrame(coefs, feature_list)\n",
    "df.columns = ['Coefs']\n",
    "df['Abs_Coefs'] = df['Coefs'].apply(lambda x: abs(x))\n",
    "df.sort_values('Abs_Coefs', ascending=False).head(50)\n"
   ]
  },
  {
   "cell_type": "code",
   "execution_count": 26,
   "metadata": {
    "ExecuteTime": {
     "end_time": "2019-07-07T22:33:34.318004Z",
     "start_time": "2019-07-07T22:33:32.056188Z"
    }
   },
   "outputs": [
    {
     "name": "stderr",
     "output_type": "stream",
     "text": [
      "C:\\Users\\Tom\\Miniconda3\\lib\\site-packages\\sklearn\\linear_model\\logistic.py:432: FutureWarning: Default solver will be changed to 'lbfgs' in 0.22. Specify a solver to silence this warning.\n",
      "  FutureWarning)\n"
     ]
    },
    {
     "name": "stdout",
     "output_type": "stream",
     "text": [
      "[0.11413093 0.08779978]\n",
      "[0.11413093 0.08779979]\n"
     ]
    },
    {
     "data": {
      "text/html": [
       "<table class=\"simpletable\">\n",
       "<caption>Logit Regression Results</caption>\n",
       "<tr>\n",
       "  <th>Dep. Variable:</th>         <td>y</td>        <th>  No. Observations:  </th>  <td>    10</td> \n",
       "</tr>\n",
       "<tr>\n",
       "  <th>Model:</th>               <td>Logit</td>      <th>  Df Residuals:      </th>  <td>     8</td> \n",
       "</tr>\n",
       "<tr>\n",
       "  <th>Method:</th>               <td>MLE</td>       <th>  Df Model:          </th>  <td>     1</td> \n",
       "</tr>\n",
       "<tr>\n",
       "  <th>Date:</th>          <td>Sun, 07 Jul 2019</td> <th>  Pseudo R-squ.:     </th>  <td>0.4856</td> \n",
       "</tr>\n",
       "<tr>\n",
       "  <th>Time:</th>              <td>17:33:34</td>     <th>  Log-Likelihood:    </th> <td> -3.5656</td>\n",
       "</tr>\n",
       "<tr>\n",
       "  <th>converged:</th>           <td>True</td>       <th>  LL-Null:           </th> <td> -6.9315</td>\n",
       "</tr>\n",
       "<tr>\n",
       "  <th> </th>                      <td> </td>        <th>  LLR p-value:       </th> <td>0.009472</td>\n",
       "</tr>\n",
       "</table>\n",
       "<table class=\"simpletable\">\n",
       "<tr>\n",
       "    <td></td>       <th>coef</th>     <th>std err</th>      <th>z</th>      <th>P>|z|</th>  <th>[0.025</th>    <th>0.975]</th>  \n",
       "</tr>\n",
       "<tr>\n",
       "  <th>const</th> <td>   -3.9587</td> <td>    2.506</td> <td>   -1.580</td> <td> 0.114</td> <td>   -8.870</td> <td>    0.952</td>\n",
       "</tr>\n",
       "<tr>\n",
       "  <th>x1</th>    <td>    0.8797</td> <td>    0.515</td> <td>    1.707</td> <td> 0.088</td> <td>   -0.130</td> <td>    1.890</td>\n",
       "</tr>\n",
       "</table>"
      ],
      "text/plain": [
       "<class 'statsmodels.iolib.summary.Summary'>\n",
       "\"\"\"\n",
       "                           Logit Regression Results                           \n",
       "==============================================================================\n",
       "Dep. Variable:                      y   No. Observations:                   10\n",
       "Model:                          Logit   Df Residuals:                        8\n",
       "Method:                           MLE   Df Model:                            1\n",
       "Date:                Sun, 07 Jul 2019   Pseudo R-squ.:                  0.4856\n",
       "Time:                        17:33:34   Log-Likelihood:                -3.5656\n",
       "converged:                       True   LL-Null:                       -6.9315\n",
       "                                        LLR p-value:                  0.009472\n",
       "==============================================================================\n",
       "                 coef    std err          z      P>|z|      [0.025      0.975]\n",
       "------------------------------------------------------------------------------\n",
       "const         -3.9587      2.506     -1.580      0.114      -8.870       0.952\n",
       "x1             0.8797      0.515      1.707      0.088      -0.130       1.890\n",
       "==============================================================================\n",
       "\"\"\""
      ]
     },
     "execution_count": 26,
     "metadata": {},
     "output_type": "execute_result"
    }
   ],
   "source": [
    "import numpy as np\n",
    "from scipy.stats import norm\n",
    "from sklearn.linear_model import LogisticRegression\n",
    "\n",
    "def logit_pvalue(model, x):\n",
    "    \"\"\" Calculate z-scores for scikit-learn LogisticRegression.\n",
    "    parameters:\n",
    "        model: fitted sklearn.linear_model.LogisticRegression with intercept and large C\n",
    "        x:     matrix on which the model was fit\n",
    "    This function uses asymtptics for maximum likelihood estimates.\n",
    "    \"\"\"\n",
    "    p = model.predict_proba(x)\n",
    "    n = len(p)\n",
    "    m = len(model.coef_[0]) + 1\n",
    "    coefs = np.concatenate([model.intercept_, model.coef_[0]])\n",
    "    x_full = np.matrix(np.insert(np.array(x), 0, 1, axis = 1))\n",
    "    ans = np.zeros((m, m))\n",
    "    for i in range(n):\n",
    "        ans = ans + np.dot(np.transpose(x_full[i, :]), x_full[i, :]) * p[i,1] * p[i, 0]\n",
    "    vcov = np.linalg.inv(np.matrix(ans))\n",
    "    se = np.sqrt(np.diag(vcov))\n",
    "    t =  coefs/se  \n",
    "    p = (1 - norm.cdf(abs(t))) * 2\n",
    "    return p\n",
    "\n",
    "# test p-values\n",
    "x = np.arange(10)[:, np.newaxis]\n",
    "y = np.array([0,0,0,1,0,0,1,1,1,1])\n",
    "model = LogisticRegression(C=1e30).fit(x, y)\n",
    "print(logit_pvalue(model, x))\n",
    "\n",
    "# compare with statsmodels\n",
    "import statsmodels.api as sm\n",
    "sm_model = sm.Logit(y, sm.add_constant(x)).fit(disp=0)\n",
    "print(sm_model.pvalues)\n",
    "sm_model.summary()"
   ]
  },
  {
   "cell_type": "code",
   "execution_count": null,
   "metadata": {
    "ExecuteTime": {
     "end_time": "2019-07-07T23:06:26.120026Z",
     "start_time": "2019-07-07T23:06:09.986076Z"
    }
   },
   "outputs": [],
   "source": [
    "# Fitting logistic regression model with cross validation\n",
    "# Use cross-validation with training data, test with testing data. Model leaking otherwise.\n",
    "from sklearn.linear_model import LogisticRegressionCV\n",
    "logregcv = LogisticRegressionCV(cv=10, random_state=42, max_iter=1000)\n",
    "fitted = logregcv.fit(X_train, y_train)\n",
    "\n",
    "# Train accuracy score\n",
    "score_model(fitted, X_train, y_train)"
   ]
  },
  {
   "cell_type": "code",
   "execution_count": null,
   "metadata": {
    "ExecuteTime": {
     "end_time": "2019-07-07T22:49:56.723609Z",
     "start_time": "2019-07-07T22:35:15.239Z"
    }
   },
   "outputs": [],
   "source": [
    "# Test accuracy score\n",
    "\n",
    "score_model(fitted, X_test, y_test)"
   ]
  },
  {
   "cell_type": "code",
   "execution_count": 15,
   "metadata": {
    "ExecuteTime": {
     "end_time": "2019-07-07T00:24:49.865718Z",
     "start_time": "2019-07-07T00:24:49.777956Z"
    }
   },
   "outputs": [
    {
     "data": {
      "text/html": [
       "<div>\n",
       "<style scoped>\n",
       "    .dataframe tbody tr th:only-of-type {\n",
       "        vertical-align: middle;\n",
       "    }\n",
       "\n",
       "    .dataframe tbody tr th {\n",
       "        vertical-align: top;\n",
       "    }\n",
       "\n",
       "    .dataframe thead th {\n",
       "        text-align: right;\n",
       "    }\n",
       "</style>\n",
       "<table border=\"1\" class=\"dataframe\">\n",
       "  <thead>\n",
       "    <tr style=\"text-align: right;\">\n",
       "      <th></th>\n",
       "      <th>Coefs</th>\n",
       "      <th>Abs_Coefs</th>\n",
       "    </tr>\n",
       "  </thead>\n",
       "  <tbody>\n",
       "    <tr>\n",
       "      <th>cancel</th>\n",
       "      <td>-3.158402</td>\n",
       "      <td>3.158402</td>\n",
       "    </tr>\n",
       "    <tr>\n",
       "      <th>miniatures</th>\n",
       "      <td>1.175928</td>\n",
       "      <td>1.175928</td>\n",
       "    </tr>\n",
       "    <tr>\n",
       "      <th>stretch</th>\n",
       "      <td>1.054835</td>\n",
       "      <td>1.054835</td>\n",
       "    </tr>\n",
       "    <tr>\n",
       "      <th>cthulhu</th>\n",
       "      <td>0.923606</td>\n",
       "      <td>0.923606</td>\n",
       "    </tr>\n",
       "    <tr>\n",
       "      <th>app</th>\n",
       "      <td>-0.884513</td>\n",
       "      <td>0.884513</td>\n",
       "    </tr>\n",
       "    <tr>\n",
       "      <th>suspend</th>\n",
       "      <td>-0.804500</td>\n",
       "      <td>0.804500</td>\n",
       "    </tr>\n",
       "    <tr>\n",
       "      <th>shooter</th>\n",
       "      <td>-0.793495</td>\n",
       "      <td>0.793495</td>\n",
       "    </tr>\n",
       "    <tr>\n",
       "      <th>application</th>\n",
       "      <td>-0.783378</td>\n",
       "      <td>0.783378</td>\n",
       "    </tr>\n",
       "    <tr>\n",
       "      <th>multiplayer</th>\n",
       "      <td>-0.767146</td>\n",
       "      <td>0.767146</td>\n",
       "    </tr>\n",
       "    <tr>\n",
       "      <th>thesis</th>\n",
       "      <td>0.767105</td>\n",
       "      <td>0.767105</td>\n",
       "    </tr>\n",
       "  </tbody>\n",
       "</table>\n",
       "</div>"
      ],
      "text/plain": [
       "                Coefs  Abs_Coefs\n",
       "cancel      -3.158402   3.158402\n",
       "miniatures   1.175928   1.175928\n",
       "stretch      1.054835   1.054835\n",
       "cthulhu      0.923606   0.923606\n",
       "app         -0.884513   0.884513\n",
       "suspend     -0.804500   0.804500\n",
       "shooter     -0.793495   0.793495\n",
       "application -0.783378   0.783378\n",
       "multiplayer -0.767146   0.767146\n",
       "thesis       0.767105   0.767105"
      ]
     },
     "execution_count": 15,
     "metadata": {},
     "output_type": "execute_result"
    }
   ],
   "source": [
    "# Getting logistic regression coefficients for cross validated model (when it was just words. Keeping for top words)\n",
    "\n",
    "coefs = logregcv.coef_.transpose()\n",
    "feature_list = list(kickstarter_features)\n",
    "df = pd.DataFrame(coefs, feature_list)\n",
    "df.columns = ['Coefs']\n",
    "df['Abs_Coefs'] = df['Coefs'].apply(lambda x: abs(x))\n",
    "df.sort_values('Abs_Coefs', ascending=False).head(10)"
   ]
  },
  {
   "cell_type": "code",
   "execution_count": 19,
   "metadata": {
    "ExecuteTime": {
     "end_time": "2019-07-07T23:43:17.363645Z",
     "start_time": "2019-07-07T23:43:12.885219Z"
    }
   },
   "outputs": [
    {
     "name": "stdout",
     "output_type": "stream",
     "text": [
      "\n",
      " Accuracy Score: \n",
      " \n",
      " 70.10%\n",
      "\n",
      " Confusion Matrix: \n",
      " \n",
      " [[136415  36056]\n",
      " [ 50273  65984]]\n",
      "\n",
      " Classification Report: \n",
      " \n",
      "               precision    recall  f1-score   support\n",
      "\n",
      "           0       0.73      0.79      0.76    172471\n",
      "           1       0.65      0.57      0.60    116257\n",
      "\n",
      "    accuracy                           0.70    288728\n",
      "   macro avg       0.69      0.68      0.68    288728\n",
      "weighted avg       0.70      0.70      0.70    288728\n",
      "\n"
     ]
    },
    {
     "data": {
      "image/png": "[encoded data removed]",
      "text/plain": [
       "<Figure size 576x576 with 1 Axes>"
      ]
     },
     "metadata": {},
     "output_type": "display_data"
    }
   ],
   "source": [
    "# For Naive Bayes, make sure to run with MinMaxScaler first\n",
    "\n",
    "from sklearn.naive_bayes import MultinomialNB\n",
    "X = minmaxscaling(X)\n",
    "X_train, X_test, y_train, y_test = train_test_split(X, y)\n",
    "nb = MultinomialNB()\n",
    "fitted = nb.fit(X_train, y_train.ravel())\n",
    "score_model(fitted, X_train, y_train)"
   ]
  },
  {
   "cell_type": "code",
   "execution_count": 20,
   "metadata": {
    "ExecuteTime": {
     "end_time": "2019-07-07T23:43:55.150793Z",
     "start_time": "2019-07-07T23:43:54.422762Z"
    }
   },
   "outputs": [
    {
     "name": "stdout",
     "output_type": "stream",
     "text": [
      "\n",
      " Accuracy Score: \n",
      " \n",
      " 70.47%\n",
      "\n",
      " Confusion Matrix: \n",
      " \n",
      " [[67182 17564]\n",
      " [24434 33030]]\n",
      "\n",
      " Classification Report: \n",
      " \n",
      "               precision    recall  f1-score   support\n",
      "\n",
      "           0       0.73      0.79      0.76     84746\n",
      "           1       0.65      0.57      0.61     57464\n",
      "\n",
      "    accuracy                           0.70    142210\n",
      "   macro avg       0.69      0.68      0.69    142210\n",
      "weighted avg       0.70      0.70      0.70    142210\n",
      "\n"
     ]
    },
    {
     "data": {
      "image/png": "[encoded data removed]",
      "text/plain": [
       "<Figure size 576x576 with 1 Axes>"
      ]
     },
     "metadata": {},
     "output_type": "display_data"
    }
   ],
   "source": [
    "score_model(fitted, X_test, y_test)"
   ]
  },
  {
   "cell_type": "code",
   "execution_count": 21,
   "metadata": {
    "ExecuteTime": {
     "end_time": "2019-07-07T23:44:43.579403Z",
     "start_time": "2019-07-07T23:44:21.975278Z"
    }
   },
   "outputs": [
    {
     "name": "stderr",
     "output_type": "stream",
     "text": [
      "C:\\Users\\Tom\\Miniconda3\\lib\\site-packages\\sklearn\\ensemble\\forest.py:245: FutureWarning: The default value of n_estimators will change from 10 in version 0.20 to 100 in 0.22.\n",
      "  \"10 in version 0.20 to 100 in 0.22.\", FutureWarning)\n"
     ]
    },
    {
     "name": "stdout",
     "output_type": "stream",
     "text": [
      "\n",
      " Accuracy Score: \n",
      " \n",
      " 93.97%\n",
      "\n",
      " Confusion Matrix: \n",
      " \n",
      " [[165243   7228]\n",
      " [ 10173 106084]]\n",
      "\n",
      " Classification Report: \n",
      " \n",
      "               precision    recall  f1-score   support\n",
      "\n",
      "           0       0.94      0.96      0.95    172471\n",
      "           1       0.94      0.91      0.92    116257\n",
      "\n",
      "    accuracy                           0.94    288728\n",
      "   macro avg       0.94      0.94      0.94    288728\n",
      "weighted avg       0.94      0.94      0.94    288728\n",
      "\n"
     ]
    },
    {
     "data": {
      "image/png": "[encoded data removed]",
      "text/plain": [
       "<Figure size 576x576 with 1 Axes>"
      ]
     },
     "metadata": {},
     "output_type": "display_data"
    }
   ],
   "source": [
    "# Fitting random forest model, getting model coefficients\n",
    "\n",
    "from sklearn.ensemble import RandomForestClassifier\n",
    "rf = RandomForestClassifier()\n",
    "fitted = rf.fit(X_train, y_train)\n",
    "score_model(fitted, X_train, y_train)\n"
   ]
  },
  {
   "cell_type": "code",
   "execution_count": 22,
   "metadata": {
    "ExecuteTime": {
     "end_time": "2019-07-07T23:44:59.408964Z",
     "start_time": "2019-07-07T23:44:57.178856Z"
    }
   },
   "outputs": [
    {
     "name": "stdout",
     "output_type": "stream",
     "text": [
      "\n",
      " Accuracy Score: \n",
      " \n",
      " 71.73%\n",
      "\n",
      " Confusion Matrix: \n",
      " \n",
      " [[67635 17111]\n",
      " [23091 34373]]\n",
      "\n",
      " Classification Report: \n",
      " \n",
      "               precision    recall  f1-score   support\n",
      "\n",
      "           0       0.75      0.80      0.77     84746\n",
      "           1       0.67      0.60      0.63     57464\n",
      "\n",
      "    accuracy                           0.72    142210\n",
      "   macro avg       0.71      0.70      0.70    142210\n",
      "weighted avg       0.71      0.72      0.71    142210\n",
      "\n"
     ]
    },
    {
     "data": {
      "image/png": "[encoded data removed]",
      "text/plain": [
       "<Figure size 576x576 with 1 Axes>"
      ]
     },
     "metadata": {},
     "output_type": "display_data"
    },
    {
     "name": "stdout",
     "output_type": "stream",
     "text": [
      "                                 Coefs\n",
      "log_goal                      0.294288\n",
      "day                           0.203518\n",
      "days_to_deadline              0.134998\n",
      "month                         0.127336\n",
      "category_name_Tabletop Games  0.023010\n",
      "category_name_Shorts          0.015052\n",
      "category_name_Documentary     0.010318\n",
      "category_name_Food            0.008802\n",
      "category_slug_design          0.007538\n",
      "category_name_Theater         0.007509\n"
     ]
    }
   ],
   "source": [
    "from sklearn.ensemble import RandomForestClassifier\n",
    "score_model(rf, X_test, y_test)\n",
    "\n",
    "feature_list = list(kickstarter_features)\n",
    "df = pd.DataFrame(rf.feature_importances_, feature_list)\n",
    "df.columns = ['Coefs']\n",
    "print(df.sort_values('Coefs', ascending=False).head(10))"
   ]
  },
  {
   "cell_type": "code",
   "execution_count": 24,
   "metadata": {
    "ExecuteTime": {
     "end_time": "2019-07-07T23:45:45.135772Z",
     "start_time": "2019-07-07T23:45:41.920383Z"
    }
   },
   "outputs": [
    {
     "name": "stdout",
     "output_type": "stream",
     "text": [
      "\n",
      " Accuracy Score: \n",
      " \n",
      " 70.71%\n",
      "\n",
      " Confusion Matrix: \n",
      " \n",
      " [[141898  30573]\n",
      " [ 53995  62262]]\n",
      "\n",
      " Classification Report: \n",
      " \n",
      "               precision    recall  f1-score   support\n",
      "\n",
      "           0       0.72      0.82      0.77    172471\n",
      "           1       0.67      0.54      0.60    116257\n",
      "\n",
      "    accuracy                           0.71    288728\n",
      "   macro avg       0.70      0.68      0.68    288728\n",
      "weighted avg       0.70      0.71      0.70    288728\n",
      "\n",
      "Probability estimates not available \n",
      "\n",
      "                                 Coefs\n",
      "log_goal                      0.294288\n",
      "day                           0.203518\n",
      "days_to_deadline              0.134998\n",
      "month                         0.127336\n",
      "category_name_Tabletop Games  0.023010\n",
      "category_name_Shorts          0.015052\n",
      "category_name_Documentary     0.010318\n",
      "category_name_Food            0.008802\n",
      "category_slug_design          0.007538\n",
      "category_name_Theater         0.007509\n"
     ]
    }
   ],
   "source": [
    "# Fitting support vector classifier.  Using a linear model because fit time scales quadratically with normal SVC.\n",
    "\n",
    "from sklearn.linear_model import SGDClassifier\n",
    "sgd = SGDClassifier()\n",
    "fitted = sgd.fit(X_train, y_train)\n",
    "score_model(fitted, X_train, y_train)\n",
    "feature_list = list(kickstarter_features)\n",
    "df = pd.DataFrame(rf.feature_importances_, feature_list)\n",
    "df.columns = ['Coefs']\n",
    "print(df.sort_values('Coefs', ascending=False).head(10))"
   ]
  },
  {
   "cell_type": "code",
   "execution_count": 25,
   "metadata": {
    "ExecuteTime": {
     "end_time": "2019-07-07T23:45:59.289782Z",
     "start_time": "2019-07-07T23:45:58.771039Z"
    }
   },
   "outputs": [
    {
     "name": "stdout",
     "output_type": "stream",
     "text": [
      "\n",
      " Accuracy Score: \n",
      " \n",
      " 70.85%\n",
      "\n",
      " Confusion Matrix: \n",
      " \n",
      " [[69712 15034]\n",
      " [26417 31047]]\n",
      "\n",
      " Classification Report: \n",
      " \n",
      "               precision    recall  f1-score   support\n",
      "\n",
      "           0       0.73      0.82      0.77     84746\n",
      "           1       0.67      0.54      0.60     57464\n",
      "\n",
      "    accuracy                           0.71    142210\n",
      "   macro avg       0.70      0.68      0.69    142210\n",
      "weighted avg       0.70      0.71      0.70    142210\n",
      "\n",
      "Probability estimates not available \n",
      "\n",
      "                                 Coefs\n",
      "log_goal                      0.294288\n",
      "day                           0.203518\n",
      "days_to_deadline              0.134998\n",
      "month                         0.127336\n",
      "category_name_Tabletop Games  0.023010\n",
      "category_name_Shorts          0.015052\n",
      "category_name_Documentary     0.010318\n",
      "category_name_Food            0.008802\n",
      "category_slug_design          0.007538\n",
      "category_name_Theater         0.007509\n"
     ]
    }
   ],
   "source": [
    "score_model(fitted, X_test, y_test)\n",
    "feature_list = list(kickstarter_features)\n",
    "df = pd.DataFrame(rf.feature_importances_, feature_list)\n",
    "df.columns = ['Coefs']\n",
    "print(df.sort_values('Coefs', ascending=False).head(10))"
   ]
  },
  {
   "cell_type": "code",
   "execution_count": 27,
   "metadata": {
    "ExecuteTime": {
     "end_time": "2019-07-07T23:48:59.458144Z",
     "start_time": "2019-07-07T23:46:35.097482Z"
    }
   },
   "outputs": [
    {
     "name": "stdout",
     "output_type": "stream",
     "text": [
      "\n",
      " Accuracy Score: \n",
      " \n",
      " 64.96%\n",
      "\n",
      " Confusion Matrix: \n",
      " \n",
      " [[156897  15574]\n",
      " [ 85588  30669]]\n",
      "\n",
      " Classification Report: \n",
      " \n",
      "               precision    recall  f1-score   support\n",
      "\n",
      "           0       0.65      0.91      0.76    172471\n",
      "           1       0.66      0.26      0.38    116257\n",
      "\n",
      "    accuracy                           0.65    288728\n",
      "   macro avg       0.66      0.59      0.57    288728\n",
      "weighted avg       0.65      0.65      0.60    288728\n",
      "\n"
     ]
    },
    {
     "data": {
      "image/png": "[encoded data removed]",
      "text/plain": [
       "<Figure size 576x576 with 1 Axes>"
      ]
     },
     "metadata": {},
     "output_type": "display_data"
    }
   ],
   "source": [
    "import xgboost as xgb\n",
    "# find best parameters using grid search\n",
    "X_train, X_test, y_train, y_test = train_test_split(X, y)\n",
    "params = {\"learning_rate\"    : [0.05, 0.10, 0.15, 0.20, 0.25, 0.30 ] ,\n",
    " \"max_depth\"        : [ 3, 4, 5, 6, 8, 10, 12, 15],\n",
    " \"min_child_weight\" : [ 1, 3, 5, 7 ],\n",
    " \"gamma\"            : [ 0.0, 0.1, 0.2 , 0.3, 0.4 ],\n",
    " \"colsample_bytree\" : [ 0.3, 0.4, 0.5 , 0.7 ],\n",
    " \"objective\": ['binary:logistic', 'multi:softmax', 'multi:softprob']}\n",
    "xgb = xgb.XGBRFClassifier(parameters=params)\n",
    "fitted = xgb.fit(X_train, y_train)\n",
    "score_model(fitted, X_train, y_train)"
   ]
  },
  {
   "cell_type": "code",
   "execution_count": 28,
   "metadata": {
    "ExecuteTime": {
     "end_time": "2019-07-07T23:50:09.001925Z",
     "start_time": "2019-07-07T23:50:06.509032Z"
    }
   },
   "outputs": [
    {
     "name": "stdout",
     "output_type": "stream",
     "text": [
      "\n",
      " Accuracy Score: \n",
      " \n",
      " 64.85%\n",
      "\n",
      " Confusion Matrix: \n",
      " \n",
      " [[77088  7658]\n",
      " [42334 15130]]\n",
      "\n",
      " Classification Report: \n",
      " \n",
      "               precision    recall  f1-score   support\n",
      "\n",
      "           0       0.65      0.91      0.76     84746\n",
      "           1       0.66      0.26      0.38     57464\n",
      "\n",
      "    accuracy                           0.65    142210\n",
      "   macro avg       0.65      0.59      0.57    142210\n",
      "weighted avg       0.65      0.65      0.60    142210\n",
      "\n"
     ]
    },
    {
     "data": {
      "image/png": "[encoded data removed]",
      "text/plain": [
       "<Figure size 576x576 with 1 Axes>"
      ]
     },
     "metadata": {},
     "output_type": "display_data"
    }
   ],
   "source": [
    "score_model(xgb, X_test, y_test)"
   ]
  },
  {
   "cell_type": "code",
   "execution_count": 21,
   "metadata": {
    "ExecuteTime": {
     "end_time": "2019-07-07T16:54:36.259738Z",
     "start_time": "2019-07-07T16:54:35.977199Z"
    }
   },
   "outputs": [],
   "source": [
    "from sklearn import linear_model\n",
    "import numpy as np\n",
    "import scipy.stats as stat\n",
    "\n",
    "class LogisticReg:\n",
    "    \"\"\"\n",
    "    Wrapper Class for Logistic Regression which has the usual sklearn instance \n",
    "    in an attribute self.model, and pvalues, z scores and estimated \n",
    "    errors for each coefficient in \n",
    "    \n",
    "    self.z_scores\n",
    "    self.p_values\n",
    "    self.sigma_estimates\n",
    "    \n",
    "    as well as the negative hessian of the log Likelihood (Fisher information)\n",
    "    \n",
    "    self.F_ij\n",
    "    \"\"\"\n",
    "    \n",
    "    def __init__(self,*args,**kwargs):#,**kwargs):\n",
    "        self.model = linear_model.LogisticRegression(*args,**kwargs)#,**args)\n",
    "\n",
    "    def fit(self,X,y):\n",
    "        self.model.fit(X,y)\n",
    "        #### Get p-values for the fitted model ####\n",
    "        denom = (2.0*(1.0+np.cosh(self.model.decision_function(X))))\n",
    "        denom = np.tile(denom,(X.shape[1],1)).T\n",
    "        F_ij = np.dot((X/denom).T,X) ## Fisher Information Matrix\n",
    "        Cramer_Rao = np.linalg.inv(F_ij) ## Inverse Information Matrix\n",
    "        sigma_estimates = np.sqrt(np.diagonal(Cramer_Rao))\n",
    "        z_scores = self.model.coef_[0]/sigma_estimates # z-score for eaach model coefficient\n",
    "        p_values = [stat.norm.sf(abs(x))*2 for x in z_scores] ### two tailed test for p-values\n",
    "        \n",
    "        self.z_scores = z_scores\n",
    "        self.p_values = p_values\n",
    "        self.sigma_estimates = sigma_estimates\n",
    "        self.F_ij = F_ij\n",
    "        "
   ]
  },
  {
   "cell_type": "code",
   "execution_count": null,
   "metadata": {
    "ExecuteTime": {
     "end_time": "2019-07-01T21:01:29.060738Z",
     "start_time": "2019-07-01T21:01:25.231862Z"
    }
   },
   "outputs": [],
   "source": [
    "score_model(fitted, X_test, y_test)"
   ]
  },
  {
   "cell_type": "code",
   "execution_count": null,
   "metadata": {
    "ExecuteTime": {
     "end_time": "2019-07-02T02:33:38.377748Z",
     "start_time": "2019-07-02T02:09:32.369406Z"
    }
   },
   "outputs": [],
   "source": [
    "# Grid searching features\n",
    "from sklearn.model_selection import GridSearchCV\n",
    "from sklearn.metrics import roc_auc_score\n",
    "\n",
    "rf.get_params()\n",
    "parameters = {}\n",
    "grid = GridSearchCV(estimator=rf, param_grid = parameters, scoring = 'roc_auc', n_jobs = -1)\n",
    "grid.fit(X_train, y_train)\n",
    "\n",
    "# Import roc_auc_score from sklearn.metrics\n",
    "from sklearn.metrics import roc_auc_score\n",
    "\n",
    "# Extract the best estimator\n",
    "best_model = grid.best_estimator_\n",
    "\n",
    "# Predict the test set probabilities of the positive class\n",
    "y_pred_proba = best_model.predict_proba(X_test)[:, 1]\n",
    "\n",
    "# Compute test_roc_auc\n",
    "test_roc_auc = roc_auc_score(y_test, y_pred_proba)\n",
    "\n",
    "# Print test_roc_auc\n",
    "print('Test set ROC AUC score: {:.3f}'.format(test_roc_auc))"
   ]
  },
  {
   "cell_type": "code",
   "execution_count": null,
   "metadata": {
    "ExecuteTime": {
     "end_time": "2019-07-02T02:59:39.281697Z",
     "start_time": "2019-07-02T02:59:39.232826Z"
    }
   },
   "outputs": [],
   "source": [
    "# Code from the following: \n",
    "# https://towardsdatascience.com/hyperparameter-tuning-the-random-forest-in-python-using-scikit-learn-28d2aa77dd74\n",
    "\n",
    "from sklearn.model_selection import RandomizedSearchCV\n",
    "# Number of trees in random forest\n",
    "n_estimators = [int(x) for x in np.linspace(start = 200, stop = 2000, num = 100)]\n",
    "# Number of features to consider at every split\n",
    "max_features = ['auto', 'sqrt']\n",
    "# Maximum number of levels in tree\n",
    "max_depth = [int(x) for x in np.linspace(10, 110, num = 11)]\n",
    "max_depth.append(None)\n",
    "# Minimum number of samples required to split a node\n",
    "min_samples_split = [2, 5, 10]\n",
    "# Minimum number of samples required at each leaf node\n",
    "min_samples_leaf = [1, 2, 4]\n",
    "# Method of selecting samples for training each tree\n",
    "bootstrap = [True, False]\n",
    "# Create the random grid\n",
    "random_grid = {'n_estimators': n_estimators,\n",
    "               'max_features': max_features,\n",
    "               'max_depth': max_depth,\n",
    "               'min_samples_split': min_samples_split,\n",
    "               'min_samples_leaf': min_samples_leaf,\n",
    "               'bootstrap': bootstrap}\n",
    "print(random_grid)\n",
    "{'bootstrap': [True, False],\n",
    " 'max_depth': [10, 20, 30, 40, 50, 60, 70, 80, 90, 100, None],\n",
    " 'max_features': ['auto', 'sqrt'],\n",
    " 'min_samples_leaf': [1, 2, 4],\n",
    " 'min_samples_split': [2, 5, 10],\n",
    " 'n_estimators': [200, 400, 600, 800, 1000, 1200, 1400, 1600, 1800, 2000]}"
   ]
  },
  {
   "cell_type": "code",
   "execution_count": null,
   "metadata": {
    "ExecuteTime": {
     "start_time": "2019-07-02T03:01:33.200Z"
    }
   },
   "outputs": [],
   "source": [
    "# Use the random grid to search for best hyperparameters\n",
    "# First create the base model to tune\n",
    "rf = RandomForestClassifier()\n",
    "# Random search of parameters, using 3 fold cross validation, \n",
    "# search across 100 different combinations, and use all available cores\n",
    "rf_random = RandomizedSearchCV(estimator = rf, param_distributions = random_grid, n_iter = 10, cv = 3, verbose=2, random_state=42, n_jobs = -1)\n",
    "# Fit the random search model\n",
    "rf_random.fit(X_train, y_train)"
   ]
  },
  {
   "cell_type": "code",
   "execution_count": 30,
   "metadata": {
    "ExecuteTime": {
     "end_time": "2019-07-08T00:02:13.218988Z",
     "start_time": "2019-07-07T23:57:55.497599Z"
    }
   },
   "outputs": [
    {
     "name": "stderr",
     "output_type": "stream",
     "text": [
      "C:\\Users\\Tom\\Miniconda3\\lib\\site-packages\\sklearn\\linear_model\\logistic.py:432: FutureWarning: Default solver will be changed to 'lbfgs' in 0.22. Specify a solver to silence this warning.\n",
      "  FutureWarning)\n"
     ]
    },
    {
     "name": "stdout",
     "output_type": "stream",
     "text": [
      "Logistic Regression : 72.28%\n",
      "Random Forest : 71.73%\n",
      "Multinomial NB : 70.47%\n",
      "XGBoost : 64.85%\n",
      "SGDClassifier : 70.85%\n"
     ]
    },
    {
     "name": "stderr",
     "output_type": "stream",
     "text": [
      "C:\\Users\\Tom\\Miniconda3\\lib\\site-packages\\sklearn\\linear_model\\logistic.py:432: FutureWarning: Default solver will be changed to 'lbfgs' in 0.22. Specify a solver to silence this warning.\n",
      "  FutureWarning)\n"
     ]
    },
    {
     "name": "stdout",
     "output_type": "stream",
     "text": [
      "Voting Classifier: 72.40%\n"
     ]
    }
   ],
   "source": [
    "# Import VotingClassifier from sklearn.ensemble\n",
    "from sklearn.ensemble import VotingClassifier\n",
    "from sklearn.metrics import accuracy_score\n",
    "\n",
    "# Create list of classifiers\n",
    "classifiers = [('Logistic Regression', logreg), ('Random Forest', rf), ('Multinomial NB', nb), ('XGBoost', xgb), \n",
    "               ('SGDClassifier', sgd)]\n",
    "\n",
    "# Iterate over the pre-defined list of classifiers\n",
    "for clf_name, clf in classifiers:    \n",
    " \n",
    "    # Fit clf to the training set\n",
    "    clf.fit(X_train, y_train)    \n",
    "   \n",
    "    # Predict y_pred\n",
    "    y_pred = clf.predict(X_test)\n",
    "    \n",
    "    # Calculate accuracy\n",
    "    accuracy = accuracy_score(y_pred, y_test) \n",
    "   \n",
    "    # Evaluate clf's accuracy on the test set\n",
    "    print('{:s} : {:.2%}'.format(clf_name, accuracy))\n",
    "\n",
    "# Instantiate a VotingClassifier vc\n",
    "vc = VotingClassifier(estimators=classifiers)     \n",
    "\n",
    "# Fit vc to the training set\n",
    "vc.fit(X_train, y_train)   \n",
    "\n",
    "# Evaluate the test set predictions\n",
    "y_pred = vc.predict(X_test)\n",
    "\n",
    "# Calculate accuracy score\n",
    "accuracy = accuracy_score(y_pred, y_test)\n",
    "print('Voting Classifier: {:.2%}'.format(accuracy))"
   ]
  },
  {
   "cell_type": "code",
   "execution_count": null,
   "metadata": {},
   "outputs": [],
   "source": []
  }
 ],
 "metadata": {
  "kernelspec": {
   "display_name": "Python 3",
   "language": "python",
   "name": "python3"
  },
  "language_info": {
   "codemirror_mode": {
    "name": "ipython",
    "version": 3
   },
   "file_extension": ".py",
   "mimetype": "text/x-python",
   "name": "python",
   "nbconvert_exporter": "python",
   "pygments_lexer": "ipython3",
   "version": "3.6.3"
  }
 },
 "nbformat": 4,
 "nbformat_minor": 2
}
